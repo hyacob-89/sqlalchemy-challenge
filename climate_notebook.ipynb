{
 "cells": [
  {
   "cell_type": "code",
   "execution_count": null,
   "metadata": {},
   "outputs": [],
   "source": [
    "%matplotlib inline\n",
    "from matplotlib import style\n",
    "style.use('fivethirtyeight')\n",
    "import matplotlib.pyplot as plt"
   ]
  },
  {
   "cell_type": "code",
   "execution_count": null,
   "metadata": {},
   "outputs": [],
   "source": [
    "import numpy as np\n",
    "import pandas as pd"
   ]
  },
  {
   "cell_type": "code",
   "execution_count": null,
   "metadata": {},
   "outputs": [],
   "source": [
    "import datetime as dt"
   ]
  },
  {
   "cell_type": "markdown",
   "metadata": {},
   "source": [
    "# Reflect Tables into SQLAlchemy ORM"
   ]
  },
  {
   "cell_type": "code",
   "execution_count": null,
   "metadata": {},
   "outputs": [],
   "source": [
    "# Python SQL toolkit and Object Relational Mapper\n",
    "import sqlalchemy\n",
    "from sqlalchemy.ext.automap import automap_base\n",
    "from sqlalchemy.orm import Session\n",
    "from sqlalchemy import create_engine, func, inspect\n"
   ]
  },
  {
   "cell_type": "code",
   "execution_count": null,
   "metadata": {},
   "outputs": [],
   "source": [
    "engine = create_engine(\"sqlite:///Resources/hawaii.sqlite\")\n",
    "conn = engine.connect()\n",
    "inspector = inspect(engine)"
   ]
  },
  {
   "cell_type": "code",
   "execution_count": null,
   "metadata": {},
   "outputs": [],
   "source": [
    "# reflect an existing database into a new model\n",
    "Base = automap_base()\n",
    "# reflect the tables\n",
    "Base.prepare(engine, reflect=True)"
   ]
  },
  {
   "cell_type": "code",
   "execution_count": null,
   "metadata": {},
   "outputs": [],
   "source": [
    "# We can view all of the classes that automap found\n",
    "Base.classes.keys()"
   ]
  },
  {
   "cell_type": "code",
   "execution_count": null,
   "metadata": {},
   "outputs": [],
   "source": [
    "# Save references to each table\n",
    "Measurement = Base.classes.measurement\n",
    "Station = Base.classes.station"
   ]
  },
  {
   "cell_type": "code",
   "execution_count": null,
   "metadata": {},
   "outputs": [],
   "source": [
    "# Create our session (link) from Python to the DB\n",
    "session = Session(engine)"
   ]
  },
  {
   "cell_type": "code",
   "execution_count": null,
   "metadata": {},
   "outputs": [],
   "source": [
    "columns = inspector.get_columns('Measurement')\n",
    "for column in columns:\n",
    "    print(column['name'], column['type'])"
   ]
  },
  {
   "cell_type": "markdown",
   "metadata": {},
   "source": [
    "# Exploratory Climate Analysis"
   ]
  },
  {
   "cell_type": "code",
   "execution_count": null,
   "metadata": {},
   "outputs": [],
   "source": [
    "# Design a query to retrieve the last 12 months of precipitation data and plot the results\n",
    "measurement_df = pd.read_sql(\"select * from Measurement\", conn)\n",
    "station_df = pd.read_sql(\"select * from Station\", conn)\n",
    "\n",
    "# Calculate the date 1 year ago from the last data point in the database\n",
    "max_date = session.query(Measurement.date).order_by(Measurement.date.desc()).first()\n",
    "\n",
    "result = []\n",
    "for d in max_date:\n",
    "    result = d\n",
    "year = int(result.split('-')[0])\n",
    "month = int(result.split('-')[1])\n",
    "day = int(result.split('-')[2])\n",
    "\n",
    "twelve_month_start = dt.date(year,month,day) - dt.timedelta(days=365)\n",
    "twelve_month_end = dt.date(year,month,day)\n",
    "\n",
    "# Perform a query to retrieve the data and precipitation scores\n",
    "sel = [Measurement.date, Measurement.prcp]\n",
    "measurement_list = session.query(*sel).filter(Measurement.date>=twelve_month_start, Measurement.date<=twelve_month_end).all()\n",
    "\n",
    "# Save the query results as a Pandas DataFrame and set the index to the date column\n",
    "measurement_data = pd.DataFrame(measurement_list).dropna()\n",
    "\n",
    "# Sort the dataframe by date\n",
    "m_data_sorted = measurement_data.sort_values('date', ascending=True)\n",
    "m_data_sorted['month_year'] = pd.to_datetime(m_data_sorted['date']).dt.to_period('M')\n",
    "prcp_data = m_data_sorted.groupby(['month_year']).max().reset_index()\n",
    "prcp_data\n",
    "\n",
    "# Use Pandas Plotting with Matplotlib to plot the data\n",
    "date = prcp_data['month_year'].to_list()\n",
    "prcp = prcp_data['prcp'].to_list()\n",
    "\n",
    "\n",
    "prcp_plot = prcp_data.plot(kind=\"bar\", title=\"Precipitation Scores\", figsize=(10,7))\n",
    "prcp_plot.set_xticklabels(prcp_data['month_year'], rotation=45)\n",
    "prcp_plot.set_xlabel('Month')\n"
   ]
  },
  {
   "cell_type": "code",
   "execution_count": null,
   "metadata": {},
   "outputs": [],
   "source": [
    "# Use Pandas to calcualte the summary statistics for the precipitation data\n",
    "m_data_sorted.describe()"
   ]
  },
  {
   "cell_type": "code",
   "execution_count": null,
   "metadata": {},
   "outputs": [],
   "source": [
    "# Design a query to show how many stations are available in this dataset?\n",
    "\n",
    "# Perform a query to retrieve the station and total observations\n",
    "sel = [Measurement.station, Measurement.tobs]\n",
    "m_station_list = session.query(*sel).all()\n",
    "\n",
    "# Save the query results as a Pandas DataFrame\n",
    "m_station_data = pd.DataFrame(m_station_list).dropna()\n",
    "\n",
    "# Count the number of stations in dataset.\n",
    "station_count = m_station_data['station'].nunique()\n",
    "\n",
    "print(f\"There are {station_count} stations available in this data set.\")"
   ]
  },
  {
   "cell_type": "code",
   "execution_count": null,
   "metadata": {},
   "outputs": [],
   "source": [
    "# What are the most active stations? (i.e. what stations have the most rows)?\n",
    "# List the stations and the counts in descending order.\n",
    "\n",
    "station_count = m_station_data.groupby(['station']).count()\n",
    "station_count\n",
    "\n",
    "# List the stations and the counts in descending order.\n",
    "station_count_sorted = station_count.sort_values('tobs', ascending=False).rename(columns={'tobs': 'count'}).reset_index()\n",
    "station_count_sorted"
   ]
  },
  {
   "cell_type": "code",
   "execution_count": null,
   "metadata": {},
   "outputs": [],
   "source": [
    "# Using the station id from the previous query, calculate the lowest temperature recorded, \n",
    "# highest temperature recorded, and average temperature of the most active station?\n",
    "\n",
    "lowest_temp = m_station_data['tobs'].loc[m_station_data['tobs'].idxmin()]\n",
    "highest_temp = m_station_data['tobs'].loc[m_station_data['tobs'].idxmax()]\n",
    "average_temp = m_station_data['tobs'].mean()\n",
    "\n",
    "print(f\"The lowest temperature in the dataset is {lowest_temp} degrees.\")\n",
    "print(f\"The highest temperature in the dataset is {highest_temp} degrees.\")\n",
    "print(f\"The average temperature in the dataset is {round(average_temp,2)} degrees.\")"
   ]
  },
  {
   "cell_type": "code",
   "execution_count": null,
   "metadata": {},
   "outputs": [],
   "source": [
    "# Choose the station with the highest number of temperature observations.\n",
    "most_observations = station_count_sorted['station'][0]\n",
    "# Query the last 12 months of temperature observation data for this station and plot the results as a histogram\n",
    "\n",
    "\n",
    "most_active_measurement_list = session.query(Measurement.tobs).\\\n",
    "                                filter(Measurement.date>=twelve_month_start, Measurement.date<=twelve_month_end).\\\n",
    "                                filter(Measurement.station == most_observations).all()\n",
    "most_active_temp = pd.DataFrame(most_active_measurement_list)\n",
    "most_active_temp.plot.hist(bins=12, title=\"Precipitation Scores\", figsize=(10,7))\n"
   ]
  },
  {
   "cell_type": "code",
   "execution_count": null,
   "metadata": {},
   "outputs": [],
   "source": [
    "# This function called `calc_temps` will accept start date and end date in the format '%Y-%m-%d' \n",
    "# and return the minimum, average, and maximum temperatures for that range of dates\n",
    "def calc_temps(start_date, end_date):\n",
    "    \"\"\"TMIN, TAVG, and TMAX for a list of dates.\n",
    "    \n",
    "    Args:\n",
    "        start_date (string): A date string in the format %Y-%m-%d\n",
    "        end_date (string): A date string in the format %Y-%m-%d\n",
    "        \n",
    "    Returns:\n",
    "        TMIN, TAVE, and TMAX\n",
    "    \"\"\"\n",
    "    \n",
    "    return session.query(func.min(Measurement.tobs), func.avg(Measurement.tobs), func.max(Measurement.tobs)).\\\n",
    "        filter(Measurement.date >= start_date).filter(Measurement.date <= end_date).all()\n",
    "\n",
    "# function usage example\n",
    "print(calc_temps('2012-02-28', '2012-03-05'))"
   ]
  },
  {
   "cell_type": "code",
   "execution_count": null,
   "metadata": {},
   "outputs": [],
   "source": [
    "# Use your previous function `calc_temps` to calculate the tmin, tavg, and tmax \n",
    "# for your trip using the previous year's data for those same dates.\n",
    "trip_start = dt.date(2017,3,28)\n",
    "trip_end = trip_start + dt.timedelta(days=7)\n",
    "\n",
    "prev_year_trip_start = trip_start - dt.timedelta(days=365)\n",
    "prev_year_trip_end = trip_end - dt.timedelta(days=365)\n",
    "\n",
    "calc_temps(prev_year_trip_start, prev_year_trip_end)"
   ]
  },
  {
   "cell_type": "code",
   "execution_count": null,
   "metadata": {},
   "outputs": [],
   "source": [
    "# Plot the results from your previous query as a bar chart. \n",
    "# Use \"Trip Avg Temp\" as your Title\n",
    "# Use the average temperature for the y value\n",
    "# Use the peak-to-peak (tmax-tmin) value as the y error bar (yerr)\n",
    "\n",
    "min_temp = calc_temps(prev_year_trip_start, prev_year_trip_end)[0][0]\n",
    "avg_temp = calc_temps(prev_year_trip_start, prev_year_trip_end)[0][1]\n",
    "max_temp = calc_temps(prev_year_trip_start, prev_year_trip_end)[0][2]\n",
    "\n",
    "x_pos = np.arange(1)\n",
    "error =  max_temp - min_temp\n",
    "\n",
    "plt.figure(figsize=(4,10))\n",
    "plt.bar(x_pos, avg_temp, yerr=error, align='center', alpha=0.5, ecolor='black', capsize=10)\n",
    "plt.xticks(x_pos)\n",
    "plt.ylabel('Temp (F)')\n",
    "plt.title('Trip Avg Temp')\n",
    "plt.ylim(0, 100)"
   ]
  },
  {
   "cell_type": "code",
   "execution_count": null,
   "metadata": {},
   "outputs": [],
   "source": [
    "# Calculate the total amount of rainfall per weather station for your trip dates using the previous year's matching dates.\n",
    "# Sort this in descending order by precipitation amount and list the station, name, latitude, longitude, and elevation\n",
    "\n",
    "sel = [Measurement.station, Measurement.prcp]\n",
    "measurement_rainfall = session.query(*sel).filter(Measurement.date>=prev_year_trip_start, Measurement.date<=prev_year_trip_end).all()\n",
    "\n",
    "rainfall_df = pd.DataFrame(measurement_rainfall)\n",
    "\n",
    "rainfall_data = rainfall_df.groupby(['station']).sum()\n",
    "merged_df = pd.merge(station_df, rainfall_data, on='station', how='inner')\n",
    "rainfall_sorted = merged_df.sort_values('prcp', ascending=False).drop(columns=['id']).set_index('station')\n",
    "\n",
    "rainfall_sorted"
   ]
  },
  {
   "cell_type": "code",
   "execution_count": null,
   "metadata": {},
   "outputs": [],
   "source": []
  }
 ],
 "metadata": {
  "kernel_info": {
   "name": "python3"
  },
  "kernelspec": {
   "display_name": "Python 3",
   "language": "python",
   "name": "python3"
  },
  "language_info": {
   "codemirror_mode": {
    "name": "ipython",
    "version": 3
   },
   "file_extension": ".py",
   "mimetype": "text/x-python",
   "name": "python",
   "nbconvert_exporter": "python",
   "pygments_lexer": "ipython3",
   "version": "3.6.9"
  },
  "nteract": {
   "version": "0.12.3"
  },
  "varInspector": {
   "cols": {
    "lenName": 16,
    "lenType": 16,
    "lenVar": 40
   },
   "kernels_config": {
    "python": {
     "delete_cmd_postfix": "",
     "delete_cmd_prefix": "del ",
     "library": "var_list.py",
     "varRefreshCmd": "print(var_dic_list())"
    },
    "r": {
     "delete_cmd_postfix": ") ",
     "delete_cmd_prefix": "rm(",
     "library": "var_list.r",
     "varRefreshCmd": "cat(var_dic_list()) "
    }
   },
   "types_to_exclude": [
    "module",
    "function",
    "builtin_function_or_method",
    "instance",
    "_Feature"
   ],
   "window_display": false
  }
 },
 "nbformat": 4,
 "nbformat_minor": 2
}
